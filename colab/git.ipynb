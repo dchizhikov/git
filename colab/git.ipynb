{
  "nbformat": 4,
  "nbformat_minor": 0,
  "metadata": {
    "colab": {
      "provenance": []
    },
    "kernelspec": {
      "name": "python3",
      "display_name": "Python 3"
    },
    "language_info": {
      "name": "python"
    }
  },
  "cells": [
    {
      "cell_type": "markdown",
      "source": [
        "# Конфиг"
      ],
      "metadata": {
        "id": "9w9_lW8xswY5"
      }
    },
    {
      "cell_type": "code",
      "source": [
        "import importlib\n",
        "import os\n",
        "import requests\n",
        "import sys\n",
        "import subprocess\n",
        "\n",
        "from google.colab import userdata"
      ],
      "metadata": {
        "id": "zZQeVlDIseYA"
      },
      "execution_count": null,
      "outputs": []
    },
    {
      "cell_type": "code",
      "source": [
        "#Среды разработки - {'CoLab': True, 'DeepNote': False, ...}\n",
        "envOn = 'CoLab'\n",
        "\n",
        "envConfig = {\n",
        "    \"isSetTrace\": {\n",
        "        \"CoLab\": False,\n",
        "        \"DeepNote\": True,\n",
        "        \"ReplIt\": False\n",
        "    },\n",
        "    \"githubRepoUp\": {\n",
        "        \"CoLab\": \"/content/\",\n",
        "        \"DeepNote\": \"/datasets/_deepnote_work/\",\n",
        "        \"ReplIt\": \"/1/2/\"\n",
        "    }\n",
        "}\n",
        "\n",
        "if envOn == 'CoLab':\n",
        "  public_token = userdata.get('public_token')\n",
        "  private_token = userdata.get(\"PAT\")\n",
        "elif envOn == 'DeepNote' or envOn == 'ReplIt':\n",
        "  public_token = os.environ[\"PUBLIC_TOKEN\"]\n",
        "  private_token = os.environ[\"PAT\"]"
      ],
      "metadata": {
        "id": "J8uc5yfnsYYg"
      },
      "execution_count": null,
      "outputs": []
    },
    {
      "cell_type": "code",
      "source": [
        "user_name = \"dchizhikov\"\n",
        "repo_name_git = \"git\"\n",
        "\n",
        "repo_up = envConfig[\"githubRepoUp\"][envOn]\n",
        "repo_name = \"databases\" #git #UML #databases #Telegram #tg_bot\n",
        "myRepo = repo_up+repo_name\n",
        "repo_url = \"https://github.com/\"+user_name+\"/\"+repo_name\n",
        "\n",
        "_token = private_token #[public_token, private_token]\n",
        "\n",
        "branch = \"origin_451F\"\n",
        "remote_branch = \"main\""
      ],
      "metadata": {
        "id": "6USs80eXsUqY"
      },
      "execution_count": 59,
      "outputs": []
    },
    {
      "cell_type": "markdown",
      "source": [
        "# Запуск"
      ],
      "metadata": {
        "id": "lvfZWj1u94Jo"
      }
    },
    {
      "cell_type": "code",
      "source": [
        "os.system(f\"rm -rf {myRepo}\") #!rm -rf $myRepo\n",
        "os.system(f\"rm -rf {repo_up+repo_name_git}\")"
      ],
      "metadata": {
        "colab": {
          "base_uri": "https://localhost:8080/"
        },
        "id": "EmpgTW7stI7j",
        "outputId": "1747b58a-0761-4342-f2c9-3419aaca307d"
      },
      "execution_count": null,
      "outputs": [
        {
          "output_type": "execute_result",
          "data": {
            "text/plain": [
              "0"
            ]
          },
          "metadata": {},
          "execution_count": 9
        }
      ]
    },
    {
      "cell_type": "code",
      "source": [
        "url = \"https://raw.githubusercontent.com/\"+user_name+\"/\"+repo_name_git+\"/main/modules/git_com.py\"\n",
        "response = requests.get(url)\n",
        "\n",
        "with open('git_com.py', 'w') as f:\n",
        "  f.write(response.text)\n",
        "\n",
        "import git_com as gc\n",
        "importlib.reload(gc)"
      ],
      "metadata": {
        "colab": {
          "base_uri": "https://localhost:8080/"
        },
        "id": "tpPitBXFs_TR",
        "outputId": "7d43593f-41dd-41b0-8603-9318bbd5d204"
      },
      "execution_count": null,
      "outputs": [
        {
          "output_type": "execute_result",
          "data": {
            "text/plain": [
              "<module 'git_com' from '/content/git_com.py'>"
            ]
          },
          "metadata": {},
          "execution_count": 5
        }
      ]
    },
    {
      "cell_type": "code",
      "source": [
        "gc.git_clone_private(user_name, repo_name_git, repo_up, _token)\n",
        "gc.git_config(user_name)\n",
        "gc.git_remote(repo_up+repo_name_git, repo_name_git, branch, user_name, _token)\n",
        "gc.git_pull(branch, remote_branch)"
      ],
      "metadata": {
        "id": "2A65TUlrt6vI"
      },
      "execution_count": null,
      "outputs": []
    },
    {
      "cell_type": "code",
      "execution_count": 60,
      "metadata": {
        "id": "JTRP-eGWJkBO"
      },
      "outputs": [],
      "source": [
        "gc.git_clone_private(user_name, repo_name, repo_up, _token)\n",
        "gc.git_config(user_name)\n",
        "gc.git_remote(myRepo, repo_name, branch, user_name, _token)\n",
        "gc.git_pull(branch, remote_branch)"
      ]
    },
    {
      "cell_type": "markdown",
      "source": [
        "# Код"
      ],
      "metadata": {
        "id": "73dHLpc1s0Ci"
      }
    },
    {
      "cell_type": "code",
      "source": [
        "source_file = f'{repo_up}{repo_name_git}/main_up_abstract.py'\n",
        "destination_file = f'{repo_up}main_base.py'\n",
        "if not os.path.exists(destination_file):\n",
        "  os.system(f'cp {source_file} {destination_file}')"
      ],
      "metadata": {
        "id": "CQM6fHsS7W5j"
      },
      "execution_count": null,
      "outputs": []
    },
    {
      "cell_type": "code",
      "source": [
        "isBot = True\n",
        "run_arg = userdata.get('bot_token') if isBot else ''\n",
        "\n",
        "try: subprocess.run(['python', '/content/main_base.py', run_arg], check=True)\n",
        "except KeyboardInterrupt: print(\"Остановлено вручную\")\n",
        "except subprocess.CalledProcessError as e: print(f\"Произошла ошибка: {e}\")\n",
        "except Exception as e: print(f\"Произошла ошибка: {e}\")"
      ],
      "metadata": {
        "colab": {
          "base_uri": "https://localhost:8080/"
        },
        "id": "j5eMUvYjLPDx",
        "outputId": "bc17d861-804d-4f95-f7fe-dff17091bbe9"
      },
      "execution_count": 56,
      "outputs": [
        {
          "output_type": "stream",
          "name": "stdout",
          "text": [
            "Остановлено вручную\n"
          ]
        }
      ]
    },
    {
      "cell_type": "markdown",
      "source": [
        "# Фикс"
      ],
      "metadata": {
        "id": "N26a-bIXwEJ1"
      }
    },
    {
      "cell_type": "code",
      "source": [
        "os.chdir(myRepo)\n",
        "gc.git_add() #!git add .\n",
        "message = f'{repo_name} bot-0.2 commit message'\n",
        "gc.git_commit(message)\n",
        "gc.git_push(branch, remote_branch)"
      ],
      "metadata": {
        "id": "6xoqAIndwHDV"
      },
      "execution_count": 57,
      "outputs": []
    },
    {
      "cell_type": "code",
      "source": [
        "os.chdir(repo_up+repo_name_git)\n",
        "gc.git_add() #!git add .\n",
        "message = f'git t-0.4 commit message'\n",
        "gc.git_commit(message)\n",
        "gc.git_push(branch, remote_branch)"
      ],
      "metadata": {
        "id": "wk94PUIuIcbD"
      },
      "execution_count": 58,
      "outputs": []
    }
  ]
}